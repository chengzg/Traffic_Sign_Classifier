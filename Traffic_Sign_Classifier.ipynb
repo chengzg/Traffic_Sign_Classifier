{
 "cells": [
  {
   "cell_type": "markdown",
   "metadata": {},
   "source": [
    "# Self-Driving Car Engineer Nanodegree\n",
    "\n",
    "## Deep Learning\n",
    "\n",
    "## Project: Build a Traffic Sign Recognition Classifier\n",
    "\n",
    "In this notebook, a template is provided for you to implement your functionality in stages, which is required to successfully complete this project. If additional code is required that cannot be included in the notebook, be sure that the Python code is successfully imported and included in your submission if necessary. \n",
    "\n",
    "> **Note**: Once you have completed all of the code implementations, you need to finalize your work by exporting the iPython Notebook as an HTML document. Before exporting the notebook to html, all of the code cells need to have been run so that reviewers can see the final implementation and output. You can then export the notebook by using the menu above and navigating to  \\n\",\n",
    "    \"**File -> Download as -> HTML (.html)**. Include the finished document along with this notebook as your submission. \n",
    "\n",
    "In addition to implementing code, there is a writeup to complete. The writeup should be completed in a separate file, which can be either a markdown file or a pdf document. There is a [write up template](https://github.com/udacity/CarND-Traffic-Sign-Classifier-Project/blob/master/writeup_template.md) that can be used to guide the writing process. Completing the code template and writeup template will cover all of the [rubric points](https://review.udacity.com/#!/rubrics/481/view) for this project.\n",
    "\n",
    "The [rubric](https://review.udacity.com/#!/rubrics/481/view) contains \"Stand Out Suggestions\" for enhancing the project beyond the minimum requirements. The stand out suggestions are optional. If you decide to pursue the \"stand out suggestions\", you can include the code in this Ipython notebook and also discuss the results in the writeup file.\n",
    "\n",
    "\n",
    ">**Note:** Code and Markdown cells can be executed using the **Shift + Enter** keyboard shortcut. In addition, Markdown cells can be edited by typically double-clicking the cell to enter edit mode."
   ]
  },
  {
   "cell_type": "markdown",
   "metadata": {},
   "source": [
    "---\n",
    "## Step 0: Load The Data"
   ]
  },
  {
   "cell_type": "code",
   "execution_count": 70,
   "metadata": {},
   "outputs": [
    {
     "name": "stdout",
     "output_type": "stream",
     "text": [
      "train data:   34799 34799\n",
      "validation data:  4410 4410\n",
      "test data:  12630 12630\n",
      "(34799, 32, 32, 3)\n",
      "(34799,)\n",
      "(32, 32, 3)\n",
      "(32, 32, 3)\n"
     ]
    },
    {
     "data": {
      "text/plain": [
       "<matplotlib.figure.Figure at 0x1eda2d3f198>"
      ]
     },
     "metadata": {},
     "output_type": "display_data"
    }
   ],
   "source": [
    "# Load pickled data\n",
    "import pickle\n",
    "import random\n",
    "\n",
    "# TODO: Fill this in based on where you saved the training and testing data\n",
    "\n",
    "training_file = \"Data/train.p\"\n",
    "validation_file= \"Data/valid.p\"\n",
    "testing_file = \"Data/test.p\"\n",
    "\n",
    "with open(training_file, mode='rb') as f:\n",
    "    train = pickle.load(f)\n",
    "with open(validation_file, mode='rb') as f:\n",
    "    valid = pickle.load(f)\n",
    "with open(testing_file, mode='rb') as f:\n",
    "    test = pickle.load(f)\n",
    "    \n",
    "X_train, y_train = train['features'], train['labels']\n",
    "X_valid, y_valid = valid['features'], valid['labels']\n",
    "X_test, y_test = test['features'], test['labels']\n",
    "\n",
    "print(\"train data:  \", len(X_train), len(y_train))\n",
    "print(\"validation data: \", len(X_valid), len(y_valid))\n",
    "print(\"test data: \", len(X_test), len(y_test))\n",
    "\n",
    "# To Be Removed Later \n",
    "# ===================\n",
    "\n",
    "print(X_train.shape)\n",
    "print(y_train.shape)\n",
    "\n",
    "import matplotlib.pyplot as plt\n",
    "x_train_index = random.randint(0, len(X_train))\n",
    "x_vaild_index = random.randint(0, len(X_valid))\n",
    "x_test_index = random.randint(0, len(X_test))\n",
    "\n",
    "image = X_train[x_train_index]\n",
    "print(image.shape)\n",
    "image = image.squeeze()\n",
    "print(image.shape)\n",
    "plt.figure(figsize=(1,1))\n",
    "plt.show()"
   ]
  },
  {
   "cell_type": "markdown",
   "metadata": {},
   "source": [
    "---\n",
    "\n",
    "## Step 1: Dataset Summary & Exploration\n",
    "\n",
    "The pickled data is a dictionary with 4 key/value pairs:\n",
    "\n",
    "- `'features'` is a 4D array containing raw pixel data of the traffic sign images, (num examples, width, height, channels).\n",
    "- `'labels'` is a 1D array containing the label/class id of the traffic sign. The file `signnames.csv` contains id -> name mappings for each id.\n",
    "- `'sizes'` is a list containing tuples, (width, height) representing the original width and height the image.\n",
    "- `'coords'` is a list containing tuples, (x1, y1, x2, y2) representing coordinates of a bounding box around the sign in the image. **THESE COORDINATES ASSUME THE ORIGINAL IMAGE. THE PICKLED DATA CONTAINS RESIZED VERSIONS (32 by 32) OF THESE IMAGES**\n",
    "\n",
    "Complete the basic data summary below. Use python, numpy and/or pandas methods to calculate the data summary rather than hard coding the results. For example, the [pandas shape method](http://pandas.pydata.org/pandas-docs/stable/generated/pandas.DataFrame.shape.html) might be useful for calculating some of the summary results. "
   ]
  },
  {
   "cell_type": "markdown",
   "metadata": {},
   "source": [
    "### Provide a Basic Summary of the Data Set Using Python, Numpy and/or Pandas"
   ]
  },
  {
   "cell_type": "code",
   "execution_count": 71,
   "metadata": {},
   "outputs": [
    {
     "name": "stdout",
     "output_type": "stream",
     "text": [
      "all_output_labels:  51839\n",
      "Number of training examples = 34799\n",
      "Number of testing examples = 12630\n",
      "Image data shape = (32, 32, 3)\n",
      "Number of classes = 43\n"
     ]
    }
   ],
   "source": [
    "import numpy as np\n",
    "### Replace each question mark with the appropriate value. \n",
    "### Use python, pandas or numpy methods rather than hard coding the results\n",
    "\n",
    "# TODO: Number of training examples\n",
    "n_train = len(X_train)\n",
    "\n",
    "# TODO: Number of validation examples\n",
    "n_validation = len(X_valid)\n",
    "\n",
    "# TODO: Number of testing examples.\n",
    "n_test = len(X_test)\n",
    "\n",
    "# TODO: What's the shape of an traffic sign image?\n",
    "image_shape = X_train[0].shape\n",
    "\n",
    "# TODO: How many unique classes/labels there are in the dataset.\n",
    "all_output_labels = np.concatenate((y_train, y_valid, y_test));\n",
    "n_classes = len(np.unique(all_output_labels))\n",
    "\n",
    "# To Be Removed ===================================\n",
    "# =================================================\n",
    "print(\"all_output_labels: \", len(all_output_labels))\n",
    "print(\"Number of training examples =\", n_train)\n",
    "print(\"Number of testing examples =\", n_test)\n",
    "print(\"Image data shape =\", image_shape)\n",
    "print(\"Number of classes =\", n_classes)"
   ]
  },
  {
   "cell_type": "markdown",
   "metadata": {},
   "source": [
    "### Include an exploratory visualization of the dataset"
   ]
  },
  {
   "cell_type": "markdown",
   "metadata": {},
   "source": [
    "Visualize the German Traffic Signs Dataset using the pickled file(s). This is open ended, suggestions include: plotting traffic sign images, plotting the count of each sign, etc. \n",
    "\n",
    "The [Matplotlib](http://matplotlib.org/) [examples](http://matplotlib.org/examples/index.html) and [gallery](http://matplotlib.org/gallery.html) pages are a great resource for doing visualizations in Python.\n",
    "\n",
    "**NOTE:** It's recommended you start with something simple first. If you wish to do more, come back to it after you've completed the rest of the sections. It can be interesting to look at the distribution of classes in the training, validation and test set. Is the distribution the same? Are there more examples of some classes than others?"
   ]
  },
  {
   "cell_type": "code",
   "execution_count": 72,
   "metadata": {
    "scrolled": true
   },
   "outputs": [
    {
     "data": {
      "image/png": "[encoded data removed]",
      "text/plain": [
       "<matplotlib.figure.Figure at 0x1eda85f4470>"
      ]
     },
     "metadata": {},
     "output_type": "display_data"
    }
   ],
   "source": [
    "### Data exploration visualization code goes here.\n",
    "### Feel free to use as many code cells as needed.\n",
    "import matplotlib.pyplot as plt\n",
    "from matplotlib import gridspec\n",
    "# Visualizations will be shown in the notebook.\n",
    "%matplotlib inline\n",
    "\n",
    "data, bins = np.histogram(y_train, bins=n_classes)\n",
    "width = 0.8\n",
    "center = (bins[:-1]+bins[1:])/2\n",
    "fig, ax = plt.subplots()\n",
    "ax.bar(center, data, align=\"center\", width=width)\n",
    "labels = np.arange(n_classes)\n",
    "plt.show()"
   ]
  },
  {
   "cell_type": "code",
   "execution_count": null,
   "metadata": {},
   "outputs": [],
   "source": []
  },
  {
   "cell_type": "markdown",
   "metadata": {},
   "source": [
    "----\n",
    "\n",
    "## Step 2: Design and Test a Model Architecture\n",
    "\n",
    "Design and implement a deep learning model that learns to recognize traffic signs. Train and test your model on the [German Traffic Sign Dataset](http://benchmark.ini.rub.de/?section=gtsrb&subsection=dataset).\n",
    "\n",
    "The LeNet-5 implementation shown in the [classroom](https://classroom.udacity.com/nanodegrees/nd013/parts/fbf77062-5703-404e-b60c-95b78b2f3f9e/modules/6df7ae49-c61c-4bb2-a23e-6527e69209ec/lessons/601ae704-1035-4287-8b11-e2c2716217ad/concepts/d4aca031-508f-4e0b-b493-e7b706120f81) at the end of the CNN lesson is a solid starting point. You'll have to change the number of classes and possibly the preprocessing, but aside from that it's plug and play! \n",
    "\n",
    "With the LeNet-5 solution from the lecture, you should expect a validation set accuracy of about 0.89. To meet specifications, the validation set accuracy will need to be at least 0.93. It is possible to get an even higher accuracy, but 0.93 is the minimum for a successful project submission. \n",
    "\n",
    "There are various aspects to consider when thinking about this problem:\n",
    "\n",
    "- Neural network architecture (is the network over or underfitting?)\n",
    "- Play around preprocessing techniques (normalization, rgb to grayscale, etc)\n",
    "- Number of examples per label (some have more than others).\n",
    "- Generate fake data.\n",
    "\n",
    "Here is an example of a [published baseline model on this problem](http://yann.lecun.com/exdb/publis/pdf/sermanet-ijcnn-11.pdf). It's not required to be familiar with the approach used in the paper but, it's good practice to try to read papers like these."
   ]
  },
  {
   "cell_type": "markdown",
   "metadata": {},
   "source": [
    "### Pre-process the Data Set (normalization, grayscale, etc.)"
   ]
  },
  {
   "cell_type": "markdown",
   "metadata": {},
   "source": [
    "Minimally, the image data should be normalized so that the data has mean zero and equal variance. For image data, `(pixel - 128)/ 128` is a quick way to approximately normalize the data and can be used in this project. \n",
    "\n",
    "Other pre-processing steps are optional. You can try different techniques to see if it improves performance. \n",
    "\n",
    "Use the code cell (or multiple code cells, if necessary) to implement the first step of your project."
   ]
  },
  {
   "cell_type": "code",
   "execution_count": 73,
   "metadata": {},
   "outputs": [
    {
     "name": "stdout",
     "output_type": "stream",
     "text": [
      "import\n"
     ]
    }
   ],
   "source": [
    "### Preprocess the data here. It is required to normalize the data. Other preprocessing steps could include \n",
    "### converting to grayscale, etc.\n",
    "### Feel free to use as many code cells as needed.\n",
    "import tensorflow as tf\n",
    "import cv2\n",
    "import copy\n",
    "import numpy as np\n",
    "from sklearn.utils import shuffle\n",
    "print(\"import\")"
   ]
  },
  {
   "cell_type": "code",
   "execution_count": 74,
   "metadata": {},
   "outputs": [],
   "source": [
    "import math\n",
    "def is_over_average(class_count, index, average):\n",
    "    if(class_count[index] > average):\n",
    "        return True\n",
    "    else:\n",
    "        return False"
   ]
  },
  {
   "cell_type": "code",
   "execution_count": 75,
   "metadata": {},
   "outputs": [
    {
     "name": "stdout",
     "output_type": "stream",
     "text": [
      "add_noise_train_images\n"
     ]
    }
   ],
   "source": [
    "def add_noise_train_images(input_train_images, output_train_images):\n",
    "    noisy_images_input = []\n",
    "    noisy_images_output = []\n",
    "    original_size = len(input_train_images)\n",
    "    if (original_size == 0):\n",
    "        return\n",
    "    \n",
    "    class_count = np.bincount(output_train_images)   \n",
    "    average = math.ceil(original_size / n_classes)\n",
    "    print(average)\n",
    "    augment_number = 20000\n",
    "    random_indexes = random.sample(range(0,original_size), augment_number)\n",
    "    displayImage = True                           \n",
    "    for index in random_indexes:\n",
    "        image  = input_train_images[index]\n",
    "        output = output_train_images[index]\n",
    "        if (is_over_average(class_count, output, average)):\n",
    "            continue\n",
    "        #generate random noise\n",
    "        image1 = np.zeros((32,32,3), np.uint8)\n",
    "        v1 = random.randint(2, 5)\n",
    "        m1 = (v1, v1, v1)\n",
    "        s1 = (v1, v1, v1)\n",
    "        cv2.randn(image1, m1, s1)\n",
    "        image1 = image + image1\n",
    "        \n",
    "        noisy_images_input.append(image1)\n",
    "        noisy_images_output.append(output)\n",
    "        \n",
    "        if displayImage is True:             \n",
    "            displayImage = False\n",
    "            fig, axs = plt.subplots(1,2)\n",
    "            axs[0].set_title(output)\n",
    "            axs[0].imshow(image)            \n",
    "            axs[1].set_title(image1.shape)\n",
    "            axs[1].imshow(image1)\n",
    "            plt.show()\n",
    "    noisy_images_input_array = np.asarray(noisy_images_input)\n",
    "    noisy_images_output_array = np.asarray(noisy_images_output)\n",
    "    print(len(noisy_images_input_array), len(noisy_images_output_array),original_size)\n",
    "    return noisy_images_input_array, noisy_images_output_array\n",
    "\n",
    "#a, b = add_noise_train_images(X_train, y_train)\n",
    "print(\"add_noise_train_images\")"
   ]
  },
  {
   "cell_type": "code",
   "execution_count": 76,
   "metadata": {},
   "outputs": [
    {
     "name": "stdout",
     "output_type": "stream",
     "text": [
      "shear_images\n"
     ]
    }
   ],
   "source": [
    "def shear_images(input_train_images, output_train_images):          \n",
    "    original_size = len(input_train_images)\n",
    "    if (original_size == 0):\n",
    "        return\n",
    "    \n",
    "    class_count = np.bincount(output_train_images)   \n",
    "    average = math.ceil(original_size / n_classes)\n",
    "    \n",
    "    rows, cols, ch = input_train_images[0].shape\n",
    "    pts1 = np.float32([[0,0],[8 ,0],[0,8]])\n",
    "    pts2 = np.float32([[8,0],[16,0],[6,10]])\n",
    "    M = cv2.getAffineTransform(pts1, pts2)\n",
    "    affined_images_input = []\n",
    "    affined_images_output = []\n",
    "    \n",
    "    augment_number = 20000\n",
    "    random_indexes = random.sample(range(0,original_size), augment_number)\n",
    "    displayImage = True                           \n",
    "    for index in random_indexes:\n",
    "        image  = input_train_images[index]\n",
    "        output = output_train_images[index]  \n",
    "        if (is_over_average(class_count, output, average)):\n",
    "            continue      \n",
    "        image1 = cv2.warpAffine(image, M, (rows, cols))\n",
    "        affined_images_input.append(image1)\n",
    "        affined_images_output.append(output)\n",
    "        if (displayImage):                        \n",
    "            displayImage = False\n",
    "            fig, axs = plt.subplots(1,2)\n",
    "            axs[0].set_title(output)\n",
    "            axs[0].imshow(image)         \n",
    "            axs[1].set_title(image1.shape)\n",
    "            axs[1].imshow(image1)\n",
    "            plt.show()\n",
    "            \n",
    "    affined_images_input_array = np.asarray(affined_images_input)\n",
    "    affined_images_output_array = np.asarray(affined_images_output)\n",
    "    print(len(affined_images_input_array), len(affined_images_output_array), original_size)\n",
    "    return affined_images_input_array, affined_images_output_array\n",
    "#a, b = shear_images(X_train, y_train)\n",
    "print(\"shear_images\")"
   ]
  },
  {
   "cell_type": "code",
   "execution_count": 77,
   "metadata": {},
   "outputs": [
    {
     "name": "stdout",
     "output_type": "stream",
     "text": [
      "scale_train_image\n"
     ]
    }
   ],
   "source": [
    "\n",
    "def scale_train_images(input_train_images, output_train_images):\n",
    "    shrinked_images_input = []\n",
    "    shrinked_images_output = []\n",
    "    original_size = len(input_train_images)\n",
    "    if original_size == 0:\n",
    "        return;\n",
    "            \n",
    "    class_count = np.bincount(output_train_images)   \n",
    "    average = math.ceil(original_size / n_classes)\n",
    "    \n",
    "    scale_factor = 0.8\n",
    "    augment_number = 20000\n",
    "    random_indexes = random.sample(range(0,original_size), augment_number)\n",
    "    displayImage = True                           \n",
    "    for index in random_indexes:\n",
    "        image  = input_train_images[index]\n",
    "        output = output_train_images[index]\n",
    "        if (is_over_average(class_count, output, average)):\n",
    "            continue\n",
    "        image1 =  cv2.resize(image, None,fx=scale_factor, fy=scale_factor, interpolation=cv2.INTER_AREA)\n",
    "        resized_image1 = cv2.copyMakeBorder(image1,3, 3, 3, 3,cv2.BORDER_CONSTANT)\n",
    "        shrinked_images_input.append(resized_image1)\n",
    "        shrinked_images_output.append(output)\n",
    "        if (displayImage):    \n",
    "            displayImage = False;\n",
    "            fig, axs = plt.subplots(1,2)\n",
    "            axs[0].set_title(output)\n",
    "            axs[0].imshow(image)\n",
    "\n",
    "            axs[1].set_title(resized_image1.shape)\n",
    "            axs[1].imshow(resized_image1)\n",
    "            plt.show()\n",
    "    \n",
    "    shrinked_images_input_array = np.asarray(shrinked_images_input)\n",
    "    shrinked_images_output_array = np.asarray(shrinked_images_output)\n",
    "    print(len(shrinked_images_input_array), len(shrinked_images_output_array), original_size)\n",
    "    return shrinked_images_input_array, shrinked_images_output_array\n",
    "#a, b = scale_train_images(X_train, y_train)\n",
    "print(\"scale_train_image\")"
   ]
  },
  {
   "cell_type": "code",
   "execution_count": 78,
   "metadata": {},
   "outputs": [
    {
     "name": "stdout",
     "output_type": "stream",
     "text": [
      "rotate_train_images\n"
     ]
    }
   ],
   "source": [
    "rows_num = 32\n",
    "cols_num = 32\n",
    "degree = 15\n",
    "M1 = cv2.getRotationMatrix2D((rows_num/2, cols_num/2), degree, 1)\n",
    "M2 = cv2.getRotationMatrix2D((rows_num/2, cols_num/2), -degree, 1)\n",
    "\n",
    "def rotate_train_images(input_train_images, output_train_images):\n",
    "    rotated_images_input = []\n",
    "    rotated_images_output = []\n",
    "    original_size = len(input_train_images)\n",
    "    if original_size == 0:\n",
    "        return;\n",
    "    \n",
    "    class_count = np.bincount(output_train_images)   \n",
    "    average = math.ceil(original_size / n_classes)\n",
    "    \n",
    "    augment_number = 20000\n",
    "    random_indexes = random.sample(range(0,original_size), augment_number)\n",
    "    displayImage = True                           \n",
    "    for index in random_indexes:\n",
    "        image = input_train_images[index]\n",
    "        output = output_train_images[index]\n",
    "        if (is_over_average(class_count, output, average)):\n",
    "            continue\n",
    "        image1 =  cv2.warpAffine(image, M1, (rows_num, cols_num))\n",
    "        image2 =  cv2.warpAffine(image, M2, (rows_num, cols_num))\n",
    "        rotated_images_input.append(image1)\n",
    "        rotated_images_input.append(image2)\n",
    "        rotated_images_output.append(output)\n",
    "        rotated_images_output.append(output)\n",
    "        if (displayImage):\n",
    "            displayImage = False\n",
    "            fig, axs = plt.subplots(1,2)\n",
    "            axs[0].imshow(image)\n",
    "            axs[0].set_title(output)\n",
    "            \n",
    "            axs[1].imshow(image1)\n",
    "            axs[1].set_title(image1.shape)\n",
    "            plt.show()\n",
    "\n",
    "    rotated_images_input_array = np.asarray(rotated_images_input)\n",
    "    rotated_images_output_array = np.asarray(rotated_images_output)\n",
    "    print(len(rotated_images_input_array), len(rotated_images_output_array),original_size)\n",
    "    return rotated_images_input_array, rotated_images_output_array\n",
    "#a, b = rotate_train_images(X_train, y_train)\n",
    "print(\"rotate_train_images\")"
   ]
  },
  {
   "cell_type": "code",
   "execution_count": 79,
   "metadata": {},
   "outputs": [
    {
     "data": {
      "image/png": "[encoded data removed]",
      "text/plain": [
       "<matplotlib.figure.Figure at 0x1ed998afa90>"
      ]
     },
     "metadata": {},
     "output_type": "display_data"
    }
   ],
   "source": [
    "### Data exploration visualization code goes here.\n",
    "### Feel free to use as many code cells as needed.\n",
    "import matplotlib.pyplot as plt\n",
    "from matplotlib import gridspec\n",
    "# Visualizations will be shown in the notebook.\n",
    "%matplotlib inline\n",
    "\n",
    "data, bins = np.histogram(y_train, bins=n_classes)\n",
    "width = 0.8\n",
    "center = (bins[:-1]+bins[1:])/2\n",
    "fig, ax = plt.subplots()\n",
    "ax.bar(center, data, align=\"center\", width=width)\n",
    "labels = np.arange(n_classes)\n",
    "plt.show()"
   ]
  },
  {
   "cell_type": "code",
   "execution_count": 80,
   "metadata": {},
   "outputs": [
    {
     "name": "stdout",
     "output_type": "stream",
     "text": [
      "+++++++++++++ to rotate\n"
     ]
    },
    {
     "data": {
      "image/png": "[encoded data removed]",
      "text/plain": [
       "<matplotlib.figure.Figure at 0x1ed99a480f0>"
      ]
     },
     "metadata": {},
     "output_type": "display_data"
    },
    {
     "name": "stdout",
     "output_type": "stream",
     "text": [
      "10374 10374 34799\n",
      "+++++++++++++ to shrink\n"
     ]
    },
    {
     "data": {
      "image/png": "[encoded data removed]",
      "text/plain": [
       "<matplotlib.figure.Figure at 0x1edaff563c8>"
      ]
     },
     "metadata": {},
     "output_type": "display_data"
    },
    {
     "name": "stdout",
     "output_type": "stream",
     "text": [
      "5214 5214 34799\n",
      "+++++++++++++ to add noise\n",
      "810\n"
     ]
    },
    {
     "data": {
      "image/png": "[encoded data removed]",
      "text/plain": [
       "<matplotlib.figure.Figure at 0x1ed9f29ee10>"
      ]
     },
     "metadata": {},
     "output_type": "display_data"
    },
    {
     "name": "stdout",
     "output_type": "stream",
     "text": [
      "5208 5208 34799\n",
      "+++++++++++++ to skew\n"
     ]
    },
    {
     "data": {
      "image/png": "[encoded data removed]",
      "text/plain": [
       "<matplotlib.figure.Figure at 0x1ed9f23ee48>"
      ]
     },
     "metadata": {},
     "output_type": "display_data"
    },
    {
     "name": "stdout",
     "output_type": "stream",
     "text": [
      "5205 5205 34799\n",
      "After rotate:    45173 45173 34799\n",
      "After scale:   50387 50387 34799\n",
      "After add noise:    55595 55595 34799\n",
      "After affine transform:   60800 60800 34799\n",
      "end of augment images\n"
     ]
    }
   ],
   "source": [
    "#To Augment The input images\n",
    "\n",
    "original_size = len(X_train)\n",
    "print(\"+++++++++++++ to rotate\")\n",
    "rotated_x_train, rotated_y_train = rotate_train_images(X_train, y_train)\n",
    "print(\"+++++++++++++ to shrink\")\n",
    "shrinked_x_train, shrinked_y_train = scale_train_images(X_train, y_train)\n",
    "print(\"+++++++++++++ to add noise\")\n",
    "noisy_x_train, noisy_y_train = add_noise_train_images(X_train, y_train)\n",
    "print(\"+++++++++++++ to skew\")\n",
    "skew_x_train, skew_y_train = shear_images(X_train, y_train)\n",
    "\n",
    "X_train = np.concatenate((X_train, rotated_x_train), axis=0)\n",
    "y_train = np.concatenate((y_train, rotated_y_train), axis=0)\n",
    "print(\"After rotate:   \", len(X_train), len(y_train), original_size)\n",
    "\n",
    "X_train = np.concatenate((X_train, shrinked_x_train), axis=0)\n",
    "y_train = np.concatenate((y_train, shrinked_y_train), axis=0)\n",
    "print(\"After scale:  \", len(X_train), len(y_train), original_size)\n",
    "\n",
    "X_train = np.concatenate((X_train, noisy_x_train), axis=0)\n",
    "y_train = np.concatenate((y_train, noisy_y_train), axis=0)\n",
    "print(\"After add noise:   \", len(X_train), len(y_train), original_size)\n",
    "\n",
    "X_train = np.concatenate((X_train, skew_x_train), axis=0)\n",
    "y_train = np.concatenate((y_train, skew_y_train), axis=0)\n",
    "print(\"After affine transform:  \", len(X_train), len(y_train), original_size)\n",
    "\n",
    "print(\"end of augment images\")"
   ]
  },
  {
   "cell_type": "code",
   "execution_count": 81,
   "metadata": {},
   "outputs": [
    {
     "data": {
      "image/png": "[encoded data removed]",
      "text/plain": [
       "<matplotlib.figure.Figure at 0x1ed999b7eb8>"
      ]
     },
     "metadata": {},
     "output_type": "display_data"
    }
   ],
   "source": [
    "### Data exploration visualization code goes here.\n",
    "### Feel free to use as many code cells as needed.\n",
    "import matplotlib.pyplot as plt\n",
    "from matplotlib import gridspec\n",
    "# Visualizations will be shown in the notebook.\n",
    "%matplotlib inline\n",
    "\n",
    "data, bins = np.histogram(y_train, bins=n_classes)\n",
    "width = 0.8\n",
    "center = (bins[:-1]+bins[1:])/2\n",
    "fig, ax = plt.subplots()\n",
    "ax.bar(center, data, align=\"center\", width=width)\n",
    "labels = np.arange(n_classes)\n",
    "plt.show()"
   ]
  },
  {
   "cell_type": "code",
   "execution_count": 82,
   "metadata": {},
   "outputs": [
    {
     "data": {
      "image/png": "[encoded data removed]",
      "text/plain": [
       "<matplotlib.figure.Figure at 0x1ed9f2ab6a0>"
      ]
     },
     "metadata": {},
     "output_type": "display_data"
    },
    {
     "data": {
      "image/png": "[encoded data removed]",
      "text/plain": [
       "<matplotlib.figure.Figure at 0x1ed9f37a240>"
      ]
     },
     "metadata": {},
     "output_type": "display_data"
    },
    {
     "data": {
      "image/png": "[encoded data removed]",
      "text/plain": [
       "<matplotlib.figure.Figure at 0x1ed9f152400>"
      ]
     },
     "metadata": {},
     "output_type": "display_data"
    },
    {
     "name": "stdout",
     "output_type": "stream",
     "text": [
      "end of enhance contrast\n"
     ]
    }
   ],
   "source": [
    "# Enhance the contrast in input images\n",
    "def enhance_contrast(X_train, X_valid, X_test):\n",
    "    new_images = [X_train, X_valid, X_test]\n",
    "    for input_images in new_images: \n",
    "        for x_index in range(len(input_images)):\n",
    "            image = input_images[x_index]\n",
    "            image = image.squeeze()\n",
    "\n",
    "            lab = cv2.cvtColor(image, cv2.COLOR_BGR2LAB)\n",
    "            l, a, b = cv2.split(lab)\n",
    "            clahe = cv2.createCLAHE(clipLimit=3.0, tileGridSize=(8,8))\n",
    "            cl = clahe.apply(l)\n",
    "            limg = cv2.merge((cl, a, b))\n",
    "            image1 = cv2.cvtColor(limg, cv2.COLOR_LAB2BGR)\n",
    "\n",
    "            input_images[x_index] = image1\n",
    "\n",
    "    return new_images[0], new_images[1], new_images[2]\n",
    "\n",
    "example_image_size = 3\n",
    "random_indexes = random.sample(range(0, len(X_valid)), example_image_size);\n",
    "old_images = {}\n",
    "for i in random_indexes:\n",
    "    image = X_valid[i]\n",
    "    old_images[i] = copy.deepcopy(image)\n",
    "    \n",
    "enhance_contrast(X_train, X_valid, X_test)\n",
    "\n",
    "for i in random_indexes:\n",
    "    fig, axs = plt.subplots(1,2)        \n",
    "    axs[0].imshow(old_images[i])\n",
    "    axs[0].set_title(\"before enhance\")\n",
    "\n",
    "    image1 = X_valid[i]\n",
    "    axs[1].set_title(\"after enhance\")\n",
    "    axs[1].imshow(image1)\n",
    "    plt.show()\n",
    "    \n",
    "print(\"end of enhance contrast\")"
   ]
  },
  {
   "cell_type": "code",
   "execution_count": 83,
   "metadata": {},
   "outputs": [
    {
     "data": {
      "image/png": "[encoded data removed]",
      "text/plain": [
       "<matplotlib.figure.Figure at 0x1ed9f467208>"
      ]
     },
     "metadata": {},
     "output_type": "display_data"
    },
    {
     "data": {
      "image/png": "[encoded data removed]",
      "text/plain": [
       "<matplotlib.figure.Figure at 0x1eda2d84400>"
      ]
     },
     "metadata": {},
     "output_type": "display_data"
    },
    {
     "data": {
      "image/png": "[encoded data removed]",
      "text/plain": [
       "<matplotlib.figure.Figure at 0x1ed9f0bc6a0>"
      ]
     },
     "metadata": {},
     "output_type": "display_data"
    },
    {
     "name": "stdout",
     "output_type": "stream",
     "text": [
      "end of gray_image\n"
     ]
    }
   ],
   "source": [
    "import cv2\n",
    "import copy\n",
    "# To GRAY OUT the Color Image\n",
    "def gray_out_images(X_train, X_valid, X_test):\n",
    "    \n",
    "    X_train_gray = []\n",
    "    for image in X_train:\n",
    "        image = image.squeeze()\n",
    "        img_gray = cv2.cvtColor(image, cv2.COLOR_BGR2GRAY)\n",
    "        img_gray = img_gray[..., np.newaxis]\n",
    "        X_train_gray.append(img_gray)\n",
    "\n",
    "    X_valid_gray = []\n",
    "    for image in X_valid:\n",
    "        image = image.squeeze()\n",
    "        img_gray = cv2.cvtColor(image, cv2.COLOR_BGR2GRAY)\n",
    "        img_gray = img_gray[..., np.newaxis]\n",
    "        X_valid_gray.append(img_gray)\n",
    "            \n",
    "    X_test_gray = []\n",
    "    for image in X_test:\n",
    "        image = image.squeeze()\n",
    "        img_gray = cv2.cvtColor(image, cv2.COLOR_BGR2GRAY)\n",
    "        img_gray = img_gray[..., np.newaxis]\n",
    "        X_test_gray.append(img_gray)\n",
    "        \n",
    "    return np.asarray(X_train_gray), np.asarray(X_valid_gray), np.asarray(X_test_gray)\n",
    "\n",
    "example_image_size = 3\n",
    "random_indexes = random.sample(range(0, len(X_valid)), example_image_size);\n",
    "old_images = {}\n",
    "for i in random_indexes:\n",
    "    image = X_valid[i]\n",
    "    old_images[i] = copy.deepcopy(image)\n",
    "    \n",
    "X_train_gray, X_valid_gray, X_test_gray = gray_out_images(X_train, X_valid, X_test)\n",
    "\n",
    "for i in random_indexes:    \n",
    "    fig, axs = plt.subplots(1,2)\n",
    "    axs[0].imshow(old_images[i])\n",
    "    axs[0].set_title(old_images[i].shape)\n",
    "    \n",
    "    image1 = X_valid_gray[i]\n",
    "    image1 = image1.squeeze()\n",
    "    axs[1].set_title(image1.shape)\n",
    "    axs[1].imshow(image1, cmap='gray')\n",
    "    plt.show()    \n",
    "\n",
    "X_train = X_train_gray\n",
    "X_valid = X_valid_gray\n",
    "X_test = X_test_gray\n",
    "print(\"end of gray_image\")"
   ]
  },
  {
   "cell_type": "code",
   "execution_count": 84,
   "metadata": {},
   "outputs": [
    {
     "name": "stdout",
     "output_type": "stream",
     "text": [
      "end of normalization\n"
     ]
    }
   ],
   "source": [
    "\n",
    "X_train = X_train.astype(np.float32);\n",
    "X_train = (X_train / 127.5) - 1\n",
    "X_valid = X_valid.astype(np.float32);\n",
    "X_valid = (X_valid / 127.5) - 1\n",
    "X_test = X_test.astype(np.float32);\n",
    "X_test = (X_test / 127.5) - 1\n",
    "print(\"end of normalization\")\n"
   ]
  },
  {
   "cell_type": "markdown",
   "metadata": {},
   "source": [
    "### Model Architecture"
   ]
  },
  {
   "cell_type": "code",
   "execution_count": 85,
   "metadata": {},
   "outputs": [
    {
     "name": "stdout",
     "output_type": "stream",
     "text": [
      "Model loaded\n"
     ]
    }
   ],
   "source": [
    "### Define your architecture here.\n",
    "### Feel free to use as many code cells as needed.\n",
    "image_input_depth = 1\n",
    "def LeNet(x):    \n",
    "    # Arguments used for tf.truncated_normal, randomly defines variables for the weights and biases for each layer\n",
    "    mu = 0\n",
    "    sigma = 0.1\n",
    "    output = x\n",
    "    # TODO: Layer 1: Convolutional. Input = 32x32x3. Output = 28x28x6.\n",
    "    conv_output_1 = 12\n",
    "\n",
    "    F_W_1 = tf.Variable(tf.truncated_normal([5,5,image_input_depth,conv_output_1], mean=mu, stddev=sigma))\n",
    "    F_B_1 = tf.Variable(tf.zeros([conv_output_1]))\n",
    "    strides = [1,1,1,1]\n",
    "    padding = \"VALID\"\n",
    "    output = tf.nn.conv2d(x, F_W_1, strides, padding) + F_B_1\n",
    "    # TODO: Activation.\n",
    "    output = tf.nn.relu(output)\n",
    "    # TODO: Pooling. Input = 28x28x6. Output = 14x14x6.\n",
    "    output = tf.nn.max_pool(output,\n",
    "                           ksize=[1,2,2,1],\n",
    "                           strides = [1,2,2,1],\n",
    "                           padding = \"SAME\")\n",
    "    print(\"After convolution layer 1\")\n",
    "    # TODO: Layer 2: Convolutional. Output = 10x10x16.\n",
    "    conv_output_2 = 32\n",
    "    F_W_2 = tf.Variable(tf.truncated_normal([5,5,conv_output_1,conv_output_2], mean=mu, stddev=sigma))\n",
    "    F_B_2 = tf.Variable(tf.zeros([conv_output_2]))\n",
    "    strides = [1,1,1,1]\n",
    "    padding = \"VALID\"\n",
    "    output = tf.nn.conv2d(output, F_W_2, strides, padding) + F_B_2\n",
    "    # TODO: Activation.\n",
    "    output = tf.nn.relu(output)\n",
    "    # TODO: Pooling. Input = 10x10x16. Output = 5x5x16.\n",
    "    output = tf.nn.max_pool(output,\n",
    "                           ksize=[1,2,2,1],\n",
    "                           strides = [1,2,2,1],\n",
    "                           padding = \"SAME\")\n",
    "    print(\"After convolution layer 2\")\n",
    "    # TODO: Flatten. Input = 5x5x16. Output = 400.\n",
    "    fc1 = tf.reshape(output, [-1, 5 * 5 * conv_output_2])\n",
    "    \n",
    "    # TODO: Layer 3: Fully Connected. Input = 400. Output = 120.\n",
    "    fc1_output = 240\n",
    "    w1 = tf.Variable(tf.truncated_normal([5*5*conv_output_2, fc1_output], mean=mu, stddev=sigma))\n",
    "    b1 = tf.Variable(tf.truncated_normal([fc1_output]))\n",
    "    fc1 = tf.add(tf.matmul(fc1, w1), b1)\n",
    "    # TODO: Activation.\n",
    "    output = tf.nn.relu(fc1)\n",
    "    output = tf.nn.dropout(output, keep_prob)\n",
    "    # TODO: Layer 4: Fully Connected. Input = 120. Output = 84.\n",
    "    fc2_output = 84\n",
    "    w2 = tf.Variable(tf.truncated_normal([fc1_output, fc2_output], mean=mu, stddev=sigma))\n",
    "    b2 = tf.Variable(tf.truncated_normal([fc2_output]))\n",
    "    fc2 = tf.add(tf.matmul(output, w2), b2)\n",
    "    # TODO: Activation.\n",
    "    output = tf.nn.relu(fc2)\n",
    "    output = tf.nn.dropout(output, keep_prob)\n",
    "    # TODO: Layer 5: Fully Connected. Input = 84. Output = 43.\n",
    "    w3 = tf.Variable(tf.truncated_normal([fc2_output, n_classes], mean=mu, stddev=sigma))\n",
    "    b3 = tf.Variable(tf.truncated_normal([n_classes]))\n",
    "    logits = tf.add(tf.matmul(output, w3), n_classes)\n",
    "    print(\"end of Full Connected layer\")\n",
    "    return logits\n",
    "print(\"Model loaded\")"
   ]
  },
  {
   "cell_type": "markdown",
   "metadata": {},
   "source": [
    "### Train, Validate and Test the Model"
   ]
  },
  {
   "cell_type": "markdown",
   "metadata": {},
   "source": [
    "A validation set can be used to assess how well the model is performing. A low accuracy on the training and validation\n",
    "sets imply underfitting. A high accuracy on the training set but low accuracy on the validation set implies overfitting."
   ]
  },
  {
   "cell_type": "code",
   "execution_count": 86,
   "metadata": {
    "scrolled": true
   },
   "outputs": [
    {
     "name": "stdout",
     "output_type": "stream",
     "text": [
      "41\n",
      "Tensor(\"strided_slice_5:0\", dtype=float32)\n",
      "After convolution layer 1\n",
      "After convolution layer 2\n",
      "end of Full Connected layer\n",
      "end of setup train pipeline\n"
     ]
    }
   ],
   "source": [
    "### Train your model here.\n",
    "### Calculate and report the accuracy on the training and validation set.\n",
    "### Once a final model architecture is selected, \n",
    "### the accuracy on the test set should be calculated and reported as well.\n",
    "### Feel free to use as many code cells as needed.\n",
    "from sklearn.utils import shuffle\n",
    "EPOCHS = 30\n",
    "BATCH_SIZE = 128\n",
    "\n",
    "# SET TRAINING MODEL \n",
    "x = tf.placeholder(tf.float32, (None, 32, 32, image_input_depth))\n",
    "y = tf.placeholder(tf.int32, (None))\n",
    "keep_prob = tf.placeholder(tf.float32)\n",
    "\n",
    "# X_train, y_train = train['features'], train['labels']\n",
    "# X_valid, y_valid = valid['features'], valid['labels']\n",
    "# X_test, y_test = test['features'], test['labels']\n",
    "OUTPUT_SIZE = 43\n",
    "one_hot_y_train = tf.one_hot(y, OUTPUT_SIZE)\n",
    "print(y_train[0])\n",
    "print(one_hot_y_train[0])\n",
    "\n",
    "LEARN_RATE = 0.002\n",
    "logits = LeNet(x)\n",
    "cross_entropy = tf.nn.softmax_cross_entropy_with_logits(\n",
    "            labels=one_hot_y_train, logits=logits)\n",
    "loss_operation = tf.reduce_mean(cross_entropy)\n",
    "optimizer = tf.train.AdamOptimizer(learning_rate=LEARN_RATE)\n",
    "train_operation = optimizer.minimize(loss_operation)\n",
    "\n",
    "# START MODEL VALIDATION\n",
    "correct_prediction = tf.equal(tf.argmax(logits, 1), \n",
    "                              tf.argmax(one_hot_y_train, 1))\n",
    "accurancy_operation = tf.reduce_mean(tf.cast(correct_prediction, \n",
    "                                             tf.float32))\n",
    "saver = tf.train.Saver()\n",
    "print(\"end of setup train pipeline\")"
   ]
  },
  {
   "cell_type": "code",
   "execution_count": 87,
   "metadata": {},
   "outputs": [],
   "source": [
    "# define the evaluate function\n",
    "def evaluate(X_data, y_data):\n",
    "    num_examples = len(X_data)\n",
    "    total_accurancy = 0\n",
    "    sess = tf.get_default_session()\n",
    "    start = 0\n",
    "    for offset in range(0, num_examples, BATCH_SIZE):\n",
    "        end = start + BATCH_SIZE\n",
    "        batch_x, batch_y = X_data[start:end], y_data[start:end]\n",
    "        accurancy = sess.run(accurancy_operation, \n",
    "                             feed_dict = {\n",
    "                                 x: batch_x,\n",
    "                                 y: batch_y,\n",
    "                                 keep_prob: 1.0\n",
    "                             })\n",
    "        total_accurancy += (accurancy * len(batch_x))\n",
    "        start = end\n",
    "    return total_accurancy / num_examples"
   ]
  },
  {
   "cell_type": "code",
   "execution_count": 88,
   "metadata": {},
   "outputs": [
    {
     "name": "stdout",
     "output_type": "stream",
     "text": [
      "training...\n",
      "EPOCHS:   0\n",
      "Validation Accuracy = 0.886\n",
      "EPOCHS:   1\n",
      "Validation Accuracy = 0.934\n",
      "EPOCHS:   2\n",
      "Validation Accuracy = 0.949\n",
      "EPOCHS:   3\n",
      "Validation Accuracy = 0.948\n",
      "EPOCHS:   4\n",
      "Validation Accuracy = 0.956\n",
      "EPOCHS:   5\n",
      "Validation Accuracy = 0.967\n",
      "EPOCHS:   6\n",
      "Validation Accuracy = 0.964\n",
      "EPOCHS:   7\n",
      "Validation Accuracy = 0.971\n",
      "EPOCHS:   8\n",
      "Validation Accuracy = 0.973\n",
      "EPOCHS:   9\n",
      "Validation Accuracy = 0.971\n",
      "EPOCHS:   10\n",
      "Validation Accuracy = 0.974\n",
      "EPOCHS:   11\n",
      "Validation Accuracy = 0.971\n",
      "EPOCHS:   12\n",
      "Validation Accuracy = 0.971\n",
      "EPOCHS:   13\n",
      "Validation Accuracy = 0.974\n",
      "EPOCHS:   14\n",
      "Validation Accuracy = 0.976\n",
      "EPOCHS:   15\n",
      "Validation Accuracy = 0.973\n",
      "EPOCHS:   16\n",
      "Validation Accuracy = 0.973\n",
      "EPOCHS:   17\n",
      "Validation Accuracy = 0.968\n",
      "EPOCHS:   18\n",
      "Validation Accuracy = 0.973\n",
      "EPOCHS:   19\n",
      "Validation Accuracy = 0.975\n",
      "EPOCHS:   20\n",
      "Validation Accuracy = 0.976\n",
      "EPOCHS:   21\n",
      "Validation Accuracy = 0.974\n",
      "EPOCHS:   22\n",
      "Validation Accuracy = 0.972\n",
      "EPOCHS:   23\n",
      "Validation Accuracy = 0.975\n",
      "EPOCHS:   24\n",
      "Validation Accuracy = 0.974\n",
      "EPOCHS:   25\n",
      "Validation Accuracy = 0.974\n",
      "EPOCHS:   26\n",
      "Validation Accuracy = 0.975\n",
      "EPOCHS:   27\n",
      "Validation Accuracy = 0.978\n",
      "EPOCHS:   28\n",
      "Validation Accuracy = 0.975\n",
      "EPOCHS:   29\n",
      "Validation Accuracy = 0.975\n",
      "\n",
      ":::::::::::::::::::::::::\n",
      "  Model Saved\n",
      ":::::::::::::::::::::::::\n"
     ]
    },
    {
     "data": {
      "image/png": "[encoded data removed]",
      "text/plain": [
       "<matplotlib.figure.Figure at 0x1edaf7a80f0>"
      ]
     },
     "metadata": {},
     "output_type": "display_data"
    }
   ],
   "source": [
    "# To Train the Model\n",
    "with tf.Session() as sess:\n",
    "    sess.run(tf.global_variables_initializer())\n",
    "    num_examples = len(X_train)\n",
    "    \n",
    "    print(\"training...\")\n",
    "    accuracy_data = []\n",
    "    for i in range(EPOCHS):\n",
    "        print(\"EPOCHS:  \", i)\n",
    "        X_train, y_train = shuffle(X_train, y_train)\n",
    "        for offset in range(0, num_examples, BATCH_SIZE):\n",
    "            end = offset + BATCH_SIZE\n",
    "            batch_x, batch_y = X_train[offset:end], y_train[offset:end]\n",
    "            sess.run(train_operation, feed_dict = \n",
    "                                        {\n",
    "                                            x : batch_x,\n",
    "                                            y : batch_y,\n",
    "                                            keep_prob: 0.5\n",
    "                                        })\n",
    "        validation_accuracy = evaluate(X_valid, y_valid)\n",
    "        accuracy_data.append(validation_accuracy)\n",
    "        print(\"Validation Accuracy = {:.3f}\".format(validation_accuracy))\n",
    "    \n",
    "    saver.save(sess, \"./lenet\")\n",
    "    print(\"\")\n",
    "    print(\":::::::::::::::::::::::::\")\n",
    "    print(\"  Model Saved\")\n",
    "    print(\":::::::::::::::::::::::::\")\n",
    "    accuracy_index = [l+1 for l in range(EPOCHS)]\n",
    "    plt.plot(accuracy_index, accuracy_data)\n",
    "    plt.grid(True)\n",
    "    plt.show()"
   ]
  },
  {
   "cell_type": "code",
   "execution_count": 89,
   "metadata": {},
   "outputs": [
    {
     "name": "stdout",
     "output_type": "stream",
     "text": [
      "INFO:tensorflow:Restoring parameters from .\\lenet\n",
      "Test Accuracy = 0.957\n"
     ]
    }
   ],
   "source": [
    "# To Test the Model\n",
    "with tf.Session() as sess:\n",
    "    saver.restore(sess, tf.train.latest_checkpoint(\".\"))\n",
    "    \n",
    "    test_accuracy = evaluate(X_test, y_test)\n",
    "    print(\"Test Accuracy = {:.3f}\".format(test_accuracy))"
   ]
  },
  {
   "cell_type": "markdown",
   "metadata": {},
   "source": [
    "---\n",
    "\n",
    "## Step 3: Test a Model on New Images\n",
    "\n",
    "To give yourself more insight into how your model is working, download at least five pictures of German traffic signs from the web and use your model to predict the traffic sign type.\n",
    "\n",
    "You may find `signnames.csv` useful as it contains mappings from the class id (integer) to the actual sign name."
   ]
  },
  {
   "cell_type": "markdown",
   "metadata": {},
   "source": [
    "### Load and Output the Images"
   ]
  },
  {
   "cell_type": "code",
   "execution_count": 111,
   "metadata": {
    "scrolled": true
   },
   "outputs": [
    {
     "name": "stdout",
     "output_type": "stream",
     "text": [
      "(8, 32, 32, 3)\n"
     ]
    },
    {
     "data": {
      "image/png": "[encoded data removed]",
      "text/plain": [
       "<matplotlib.figure.Figure at 0x1eda242fa20>"
      ]
     },
     "metadata": {},
     "output_type": "display_data"
    }
   ],
   "source": [
    "### Load the images and plot them here.\n",
    "### Feel free to use as many code cells as needed.\n",
    "\n",
    "from os import listdir\n",
    "folderPath = \"German_Traffic_Signs\"\n",
    "resized_images = []\n",
    "images_name = []\n",
    "for f in listdir(folderPath):\n",
    "    filePath = folderPath + \"\\\\\" + f;\n",
    "    image = cv2.imread(filePath)\n",
    "    resized_image = cv2.resize(image, (32, 32))       \n",
    "    resized_images.append(resized_image)\n",
    "\n",
    "    \n",
    "new_images_array = np.asarray(resized_images)\n",
    "new_classes_array = np.array([27, 11, 28, 7, 36, 18, 31, 39]);\n",
    "print(new_images_array.shape)\n",
    "\n",
    "fig, axs = plt.subplots(2, 4, figsize=(12, 6));\n",
    "fig.subplots_adjust(hspace = .2, wspace =.1)\n",
    "axs = axs.flatten()\n",
    "for i in range(len(new_images_array)):\n",
    "    axs[i].imshow(new_images_array[i])\n",
    "    axs[i].set_title(new_classes_array[i])\n",
    "plt.show()\n"
   ]
  },
  {
   "cell_type": "markdown",
   "metadata": {},
   "source": [
    "### Predict the Sign Type for Each Image"
   ]
  },
  {
   "cell_type": "code",
   "execution_count": 127,
   "metadata": {},
   "outputs": [
    {
     "name": "stdout",
     "output_type": "stream",
     "text": [
      "(1, 32, 32, 1)\n",
      "After convolution layer 1\n",
      "After convolution layer 2\n",
      "end of Full Connected layer\n",
      "(1, 32, 32, 1)\n",
      "After convolution layer 1\n",
      "After convolution layer 2\n",
      "end of Full Connected layer\n",
      "(1, 32, 32, 1)\n",
      "After convolution layer 1\n",
      "After convolution layer 2\n",
      "end of Full Connected layer\n",
      "(1, 32, 32, 1)\n",
      "After convolution layer 1\n",
      "After convolution layer 2\n",
      "end of Full Connected layer\n",
      "(1, 32, 32, 1)\n",
      "After convolution layer 1\n",
      "After convolution layer 2\n",
      "end of Full Connected layer\n",
      "(1, 32, 32, 1)\n",
      "After convolution layer 1\n",
      "After convolution layer 2\n",
      "end of Full Connected layer\n",
      "(1, 32, 32, 1)\n",
      "After convolution layer 1\n",
      "After convolution layer 2\n",
      "end of Full Connected layer\n",
      "(1, 32, 32, 1)\n",
      "After convolution layer 1\n",
      "After convolution layer 2\n",
      "end of Full Connected layer\n"
     ]
    }
   ],
   "source": [
    "### Run the predictions here and use the model to output the prediction for each image.\n",
    "### Make sure to pre-process the images with the same pre-processing pipeline used earlier.\n",
    "### Feel free to use as many code cells as needed.\n",
    "new_images_array1, _, _ = enhance_contrast(new_images_array, [], [])\n",
    "new_images_array2, _, _ = gray_out_images(new_images_array1, [], [])\n",
    "new_images_array3 = new_images_array2.astype(np.float32);\n",
    "new_images_array3 = (new_images_array3 / 127.5) - 1\n",
    "\n",
    "for image in new_images_array3:\n",
    "    image1 = np.expand_dims(image, axis=0)\n",
    "    print(image1.shape)\n",
    "    logits = LeNet(image1)"
   ]
  },
  {
   "cell_type": "markdown",
   "metadata": {},
   "source": [
    "### Analyze Performance"
   ]
  },
  {
   "cell_type": "code",
   "execution_count": 128,
   "metadata": {},
   "outputs": [
    {
     "name": "stdout",
     "output_type": "stream",
     "text": [
      "INFO:tensorflow:Restoring parameters from .\\lenet\n",
      "Test Accuracy = 0.250\n"
     ]
    }
   ],
   "source": [
    "### Calculate the accuracy for these 5 new images. \n",
    "### For example, if the model predicted 1 out of 5 signs correctly, it's 20% accurate on these new images.\n",
    "with tf.Session() as sess:\n",
    "    saver.restore(sess, tf.train.latest_checkpoint(\".\"))\n",
    "    test_accuracy = evaluate(new_images_array3, new_classes_array)\n",
    "    print(\"Test Accuracy = {:.3f}\".format(test_accuracy))"
   ]
  },
  {
   "cell_type": "markdown",
   "metadata": {},
   "source": [
    "### Output Top 5 Softmax Probabilities For Each Image Found on the Web"
   ]
  },
  {
   "cell_type": "markdown",
   "metadata": {},
   "source": [
    "For each of the new images, print out the model's softmax probabilities to show the **certainty** of the model's predictions (limit the output to the top 5 probabilities for each image). [`tf.nn.top_k`](https://www.tensorflow.org/versions/r0.12/api_docs/python/nn.html#top_k) could prove helpful here. \n",
    "\n",
    "The example below demonstrates how tf.nn.top_k can be used to find the top k predictions for each image.\n",
    "\n",
    "`tf.nn.top_k` will return the values and indices (class ids) of the top k predictions. So if k=3, for each sign, it'll return the 3 largest probabilities (out of a possible 43) and the correspoding class ids.\n",
    "\n",
    "Take this numpy array as an example. The values in the array represent predictions. The array contains softmax probabilities for five candidate images with six possible classes. `tf.nn.top_k` is used to choose the three classes with the highest probability:\n",
    "\n",
    "```\n",
    "# (5, 6) array\n",
    "a = np.array([[ 0.24879643,  0.07032244,  0.12641572,  0.34763842,  0.07893497,\n",
    "         0.12789202],\n",
    "       [ 0.28086119,  0.27569815,  0.08594638,  0.0178669 ,  0.18063401,\n",
    "         0.15899337],\n",
    "       [ 0.26076848,  0.23664738,  0.08020603,  0.07001922,  0.1134371 ,\n",
    "         0.23892179],\n",
    "       [ 0.11943333,  0.29198961,  0.02605103,  0.26234032,  0.1351348 ,\n",
    "         0.16505091],\n",
    "       [ 0.09561176,  0.34396535,  0.0643941 ,  0.16240774,  0.24206137,\n",
    "         0.09155967]])\n",
    "```\n",
    "\n",
    "Running it through `sess.run(tf.nn.top_k(tf.constant(a), k=3))` produces:\n",
    "\n",
    "```\n",
    "TopKV2(values=array([[ 0.34763842,  0.24879643,  0.12789202],\n",
    "       [ 0.28086119,  0.27569815,  0.18063401],\n",
    "       [ 0.26076848,  0.23892179,  0.23664738],\n",
    "       [ 0.29198961,  0.26234032,  0.16505091],\n",
    "       [ 0.34396535,  0.24206137,  0.16240774]]), indices=array([[3, 0, 5],\n",
    "       [0, 1, 4],\n",
    "       [0, 5, 1],\n",
    "       [1, 3, 5],\n",
    "       [1, 4, 3]], dtype=int32))\n",
    "```\n",
    "\n",
    "Looking just at the first row we get `[ 0.34763842,  0.24879643,  0.12789202]`, you can confirm these are the 3 largest probabilities in `a`. You'll also notice `[3, 0, 5]` are the corresponding indices."
   ]
  },
  {
   "cell_type": "code",
   "execution_count": 135,
   "metadata": {},
   "outputs": [
    {
     "ename": "TypeError",
     "evalue": "Value passed to parameter 'input' has DataType int32 not in list of allowed values: float16, float32",
     "output_type": "error",
     "traceback": [
      "\u001b[1;31m---------------------------------------------------------------------------\u001b[0m",
      "\u001b[1;31mTypeError\u001b[0m                                 Traceback (most recent call last)",
      "\u001b[1;32m<ipython-input-135-6fa22c626580>\u001b[0m in \u001b[0;36m<module>\u001b[1;34m()\u001b[0m\n\u001b[0;32m     14\u001b[0m \u001b[1;33m\u001b[0m\u001b[0m\n\u001b[0;32m     15\u001b[0m \u001b[0mx\u001b[0m \u001b[1;33m=\u001b[0m \u001b[0mtf\u001b[0m\u001b[1;33m.\u001b[0m\u001b[0mVariable\u001b[0m\u001b[1;33m(\u001b[0m\u001b[0mnew_images_array3\u001b[0m\u001b[1;33m[\u001b[0m\u001b[1;36m0\u001b[0m\u001b[1;33m]\u001b[0m\u001b[1;33m.\u001b[0m\u001b[0mshape\u001b[0m\u001b[1;33m)\u001b[0m\u001b[1;33m\u001b[0m\u001b[0m\n\u001b[1;32m---> 16\u001b[1;33m \u001b[0mlogits\u001b[0m \u001b[1;33m=\u001b[0m \u001b[0mLeNet\u001b[0m\u001b[1;33m(\u001b[0m\u001b[0mx\u001b[0m\u001b[1;33m)\u001b[0m\u001b[1;33m\u001b[0m\u001b[0m\n\u001b[0m\u001b[0;32m     17\u001b[0m \u001b[1;32mwith\u001b[0m \u001b[0mtf\u001b[0m\u001b[1;33m.\u001b[0m\u001b[0mSession\u001b[0m\u001b[1;33m(\u001b[0m\u001b[1;33m)\u001b[0m \u001b[1;32mas\u001b[0m \u001b[0msess\u001b[0m\u001b[1;33m:\u001b[0m\u001b[1;33m\u001b[0m\u001b[0m\n\u001b[0;32m     18\u001b[0m     \u001b[1;31m#print(sess.run(tf.nn.top_k(tf.constant(a), k=3)))\u001b[0m\u001b[1;33m\u001b[0m\u001b[1;33m\u001b[0m\u001b[0m\n",
      "\u001b[1;32m<ipython-input-85-187d1b54f65d>\u001b[0m in \u001b[0;36mLeNet\u001b[1;34m(x)\u001b[0m\n\u001b[0;32m     14\u001b[0m     \u001b[0mstrides\u001b[0m \u001b[1;33m=\u001b[0m \u001b[1;33m[\u001b[0m\u001b[1;36m1\u001b[0m\u001b[1;33m,\u001b[0m\u001b[1;36m1\u001b[0m\u001b[1;33m,\u001b[0m\u001b[1;36m1\u001b[0m\u001b[1;33m,\u001b[0m\u001b[1;36m1\u001b[0m\u001b[1;33m]\u001b[0m\u001b[1;33m\u001b[0m\u001b[0m\n\u001b[0;32m     15\u001b[0m     \u001b[0mpadding\u001b[0m \u001b[1;33m=\u001b[0m \u001b[1;34m\"VALID\"\u001b[0m\u001b[1;33m\u001b[0m\u001b[0m\n\u001b[1;32m---> 16\u001b[1;33m     \u001b[0moutput\u001b[0m \u001b[1;33m=\u001b[0m \u001b[0mtf\u001b[0m\u001b[1;33m.\u001b[0m\u001b[0mnn\u001b[0m\u001b[1;33m.\u001b[0m\u001b[0mconv2d\u001b[0m\u001b[1;33m(\u001b[0m\u001b[0mx\u001b[0m\u001b[1;33m,\u001b[0m \u001b[0mF_W_1\u001b[0m\u001b[1;33m,\u001b[0m \u001b[0mstrides\u001b[0m\u001b[1;33m,\u001b[0m \u001b[0mpadding\u001b[0m\u001b[1;33m)\u001b[0m \u001b[1;33m+\u001b[0m \u001b[0mF_B_1\u001b[0m\u001b[1;33m\u001b[0m\u001b[0m\n\u001b[0m\u001b[0;32m     17\u001b[0m     \u001b[1;31m# TODO: Activation.\u001b[0m\u001b[1;33m\u001b[0m\u001b[1;33m\u001b[0m\u001b[0m\n\u001b[0;32m     18\u001b[0m     \u001b[0moutput\u001b[0m \u001b[1;33m=\u001b[0m \u001b[0mtf\u001b[0m\u001b[1;33m.\u001b[0m\u001b[0mnn\u001b[0m\u001b[1;33m.\u001b[0m\u001b[0mrelu\u001b[0m\u001b[1;33m(\u001b[0m\u001b[0moutput\u001b[0m\u001b[1;33m)\u001b[0m\u001b[1;33m\u001b[0m\u001b[0m\n",
      "\u001b[1;32mE:\\Anaconda_3.5_x64\\envs\\carnd-term1-cpu\\lib\\site-packages\\tensorflow\\python\\ops\\gen_nn_ops.py\u001b[0m in \u001b[0;36mconv2d\u001b[1;34m(input, filter, strides, padding, use_cudnn_on_gpu, data_format, name)\u001b[0m\n\u001b[0;32m    628\u001b[0m         \u001b[1;34m\"Conv2D\"\u001b[0m\u001b[1;33m,\u001b[0m \u001b[0minput\u001b[0m\u001b[1;33m=\u001b[0m\u001b[0minput\u001b[0m\u001b[1;33m,\u001b[0m \u001b[0mfilter\u001b[0m\u001b[1;33m=\u001b[0m\u001b[0mfilter\u001b[0m\u001b[1;33m,\u001b[0m \u001b[0mstrides\u001b[0m\u001b[1;33m=\u001b[0m\u001b[0mstrides\u001b[0m\u001b[1;33m,\u001b[0m\u001b[1;33m\u001b[0m\u001b[0m\n\u001b[0;32m    629\u001b[0m         \u001b[0mpadding\u001b[0m\u001b[1;33m=\u001b[0m\u001b[0mpadding\u001b[0m\u001b[1;33m,\u001b[0m \u001b[0muse_cudnn_on_gpu\u001b[0m\u001b[1;33m=\u001b[0m\u001b[0muse_cudnn_on_gpu\u001b[0m\u001b[1;33m,\u001b[0m\u001b[1;33m\u001b[0m\u001b[0m\n\u001b[1;32m--> 630\u001b[1;33m         data_format=data_format, name=name)\n\u001b[0m\u001b[0;32m    631\u001b[0m     \u001b[0m_result\u001b[0m \u001b[1;33m=\u001b[0m \u001b[0m_op\u001b[0m\u001b[1;33m.\u001b[0m\u001b[0moutputs\u001b[0m\u001b[1;33m[\u001b[0m\u001b[1;33m:\u001b[0m\u001b[1;33m]\u001b[0m\u001b[1;33m\u001b[0m\u001b[0m\n\u001b[0;32m    632\u001b[0m     \u001b[0m_inputs_flat\u001b[0m \u001b[1;33m=\u001b[0m \u001b[0m_op\u001b[0m\u001b[1;33m.\u001b[0m\u001b[0minputs\u001b[0m\u001b[1;33m\u001b[0m\u001b[0m\n",
      "\u001b[1;32mE:\\Anaconda_3.5_x64\\envs\\carnd-term1-cpu\\lib\\site-packages\\tensorflow\\python\\framework\\op_def_library.py\u001b[0m in \u001b[0;36m_apply_op_helper\u001b[1;34m(self, op_type_name, name, **keywords)\u001b[0m\n\u001b[0;32m    607\u001b[0m               _SatisfiesTypeConstraint(base_type,\n\u001b[0;32m    608\u001b[0m                                        \u001b[0m_Attr\u001b[0m\u001b[1;33m(\u001b[0m\u001b[0mop_def\u001b[0m\u001b[1;33m,\u001b[0m \u001b[0minput_arg\u001b[0m\u001b[1;33m.\u001b[0m\u001b[0mtype_attr\u001b[0m\u001b[1;33m)\u001b[0m\u001b[1;33m,\u001b[0m\u001b[1;33m\u001b[0m\u001b[0m\n\u001b[1;32m--> 609\u001b[1;33m                                        param_name=input_name)\n\u001b[0m\u001b[0;32m    610\u001b[0m             \u001b[0mattrs\u001b[0m\u001b[1;33m[\u001b[0m\u001b[0minput_arg\u001b[0m\u001b[1;33m.\u001b[0m\u001b[0mtype_attr\u001b[0m\u001b[1;33m]\u001b[0m \u001b[1;33m=\u001b[0m \u001b[0mattr_value\u001b[0m\u001b[1;33m\u001b[0m\u001b[0m\n\u001b[0;32m    611\u001b[0m             \u001b[0minferred_from\u001b[0m\u001b[1;33m[\u001b[0m\u001b[0minput_arg\u001b[0m\u001b[1;33m.\u001b[0m\u001b[0mtype_attr\u001b[0m\u001b[1;33m]\u001b[0m \u001b[1;33m=\u001b[0m \u001b[0minput_name\u001b[0m\u001b[1;33m\u001b[0m\u001b[0m\n",
      "\u001b[1;32mE:\\Anaconda_3.5_x64\\envs\\carnd-term1-cpu\\lib\\site-packages\\tensorflow\\python\\framework\\op_def_library.py\u001b[0m in \u001b[0;36m_SatisfiesTypeConstraint\u001b[1;34m(dtype, attr_def, param_name)\u001b[0m\n\u001b[0;32m     58\u001b[0m           \u001b[1;34m\"allowed values: %s\"\u001b[0m \u001b[1;33m%\u001b[0m\u001b[1;33m\u001b[0m\u001b[0m\n\u001b[0;32m     59\u001b[0m           (param_name, dtypes.as_dtype(dtype).name,\n\u001b[1;32m---> 60\u001b[1;33m            \", \".join(dtypes.as_dtype(x).name for x in allowed_list)))\n\u001b[0m\u001b[0;32m     61\u001b[0m \u001b[1;33m\u001b[0m\u001b[0m\n\u001b[0;32m     62\u001b[0m \u001b[1;33m\u001b[0m\u001b[0m\n",
      "\u001b[1;31mTypeError\u001b[0m: Value passed to parameter 'input' has DataType int32 not in list of allowed values: float16, float32"
     ]
    }
   ],
   "source": [
    "### Print out the top five softmax probabilities for the predictions on the German traffic sign images found on the web. \n",
    "### Feel free to use as many code cells as needed.\n",
    "\n",
    "a = np.array([[ 0.24879643,  0.07032244,  0.12641572,  0.34763842,  0.07893497,\n",
    "         0.12789202],\n",
    "       [ 0.28086119,  0.27569815,  0.08594638,  0.0178669 ,  0.18063401,\n",
    "         0.15899337],\n",
    "       [ 0.26076848,  0.23664738,  0.08020603,  0.07001922,  0.1134371 ,\n",
    "         0.23892179],\n",
    "       [ 0.11943333,  0.29198961,  0.02605103,  0.26234032,  0.1351348 ,\n",
    "         0.16505091],\n",
    "       [ 0.09561176,  0.34396535,  0.0643941 ,  0.16240774,  0.24206137,\n",
    "         0.09155967]])\n",
    "\n",
    "x = tf.Variable(new_images_array3[0].shape)\n",
    "logits = LeNet(x)\n",
    "with tf.Session() as sess:\n",
    "    #print(sess.run(tf.nn.top_k(tf.constant(a), k=3)))\n",
    "    for image in new_images_array3:\n",
    "        image1 = np.expand_dims(image, axis=0)\n",
    "        print(image1.shape)\n",
    "        logits = LeNet(image1)\n",
    "        softmax_logits = tf.nn.softmax(logits)\n",
    "        sess.run(tf.nn.top_k(softmax_logits, k=3), feed_dict = {x: image1})"
   ]
  },
  {
   "cell_type": "markdown",
   "metadata": {},
   "source": [
    "### Project Writeup\n",
    "\n",
    "Once you have completed the code implementation, document your results in a project writeup using this [template](https://github.com/udacity/CarND-Traffic-Sign-Classifier-Project/blob/master/writeup_template.md) as a guide. The writeup can be in a markdown or pdf file. "
   ]
  },
  {
   "cell_type": "markdown",
   "metadata": {},
   "source": [
    "> **Note**: Once you have completed all of the code implementations and successfully answered each question above, you may finalize your work by exporting the iPython Notebook as an HTML document. You can do this by using the menu above and navigating to  \\n\",\n",
    "    \"**File -> Download as -> HTML (.html)**. Include the finished document along with this notebook as your submission."
   ]
  },
  {
   "cell_type": "markdown",
   "metadata": {},
   "source": [
    "---\n",
    "\n",
    "## Step 4 (Optional): Visualize the Neural Network's State with Test Images\n",
    "\n",
    " This Section is not required to complete but acts as an additional excersise for understaning the output of a neural network's weights. While neural networks can be a great learning device they are often referred to as a black box. We can understand what the weights of a neural network look like better by plotting their feature maps. After successfully training your neural network you can see what it's feature maps look like by plotting the output of the network's weight layers in response to a test stimuli image. From these plotted feature maps, it's possible to see what characteristics of an image the network finds interesting. For a sign, maybe the inner network feature maps react with high activation to the sign's boundary outline or to the contrast in the sign's painted symbol.\n",
    "\n",
    " Provided for you below is the function code that allows you to get the visualization output of any tensorflow weight layer you want. The inputs to the function should be a stimuli image, one used during training or a new one you provided, and then the tensorflow variable name that represents the layer's state during the training process, for instance if you wanted to see what the [LeNet lab's](https://classroom.udacity.com/nanodegrees/nd013/parts/fbf77062-5703-404e-b60c-95b78b2f3f9e/modules/6df7ae49-c61c-4bb2-a23e-6527e69209ec/lessons/601ae704-1035-4287-8b11-e2c2716217ad/concepts/d4aca031-508f-4e0b-b493-e7b706120f81) feature maps looked like for it's second convolutional layer you could enter conv2 as the tf_activation variable.\n",
    "\n",
    "For an example of what feature map outputs look like, check out NVIDIA's results in their paper [End-to-End Deep Learning for Self-Driving Cars](https://devblogs.nvidia.com/parallelforall/deep-learning-self-driving-cars/) in the section Visualization of internal CNN State. NVIDIA was able to show that their network's inner weights had high activations to road boundary lines by comparing feature maps from an image with a clear path to one without. Try experimenting with a similar test to show that your trained network's weights are looking for interesting features, whether it's looking at differences in feature maps from images with or without a sign, or even what feature maps look like in a trained network vs a completely untrained one on the same sign image.\n",
    "\n",
    "<figure>\n",
    " <img src=\"visualize_cnn.png\" width=\"380\" alt=\"Combined Image\" />\n",
    " <figcaption>\n",
    " <p></p> \n",
    " <p style=\"text-align: center;\"> Your output should look something like this (above)</p> \n",
    " </figcaption>\n",
    "</figure>\n",
    " <p></p> \n"
   ]
  },
  {
   "cell_type": "code",
   "execution_count": null,
   "metadata": {},
   "outputs": [],
   "source": [
    "### Visualize your network's feature maps here.\n",
    "### Feel free to use as many code cells as needed.\n",
    "\n",
    "# image_input: the test image being fed into the network to produce the feature maps\n",
    "# tf_activation: should be a tf variable name used during your training procedure that represents the calculated state of a specific weight layer\n",
    "# activation_min/max: can be used to view the activation contrast in more detail, by default matplot sets min and max to the actual min and max values of the output\n",
    "# plt_num: used to plot out multiple different weight feature map sets on the same block, just extend the plt number for each new feature map entry\n",
    "\n",
    "def outputFeatureMap(image_input, tf_activation, activation_min=-1, activation_max=-1 ,plt_num=1):\n",
    "    # Here make sure to preprocess your image_input in a way your network expects\n",
    "    # with size, normalization, ect if needed\n",
    "    # image_input =\n",
    "    # Note: x should be the same name as your network's tensorflow data placeholder variable\n",
    "    # If you get an error tf_activation is not defined it may be having trouble accessing the variable from inside a function\n",
    "    activation = tf_activation.eval(session=sess,feed_dict={x : image_input})\n",
    "    featuremaps = activation.shape[3]\n",
    "    plt.figure(plt_num, figsize=(15,15))\n",
    "    for featuremap in range(featuremaps):\n",
    "        plt.subplot(6,8, featuremap+1) # sets the number of feature maps to show on each row and column\n",
    "        plt.title('FeatureMap ' + str(featuremap)) # displays the feature map number\n",
    "        if activation_min != -1 & activation_max != -1:\n",
    "            plt.imshow(activation[0,:,:, featuremap], interpolation=\"nearest\", vmin =activation_min, vmax=activation_max, cmap=\"gray\")\n",
    "        elif activation_max != -1:\n",
    "            plt.imshow(activation[0,:,:, featuremap], interpolation=\"nearest\", vmax=activation_max, cmap=\"gray\")\n",
    "        elif activation_min !=-1:\n",
    "            plt.imshow(activation[0,:,:, featuremap], interpolation=\"nearest\", vmin=activation_min, cmap=\"gray\")\n",
    "        else:\n",
    "            plt.imshow(activation[0,:,:, featuremap], interpolation=\"nearest\", cmap=\"gray\")"
   ]
  }
 ],
 "metadata": {
  "anaconda-cloud": {},
  "kernelspec": {
   "display_name": "Python 3",
   "language": "python",
   "name": "python3"
  },
  "language_info": {
   "codemirror_mode": {
    "name": "ipython",
    "version": 3
   },
   "file_extension": ".py",
   "mimetype": "text/x-python",
   "name": "python",
   "nbconvert_exporter": "python",
   "pygments_lexer": "ipython3",
   "version": "3.5.2"
  },
  "widgets": {
   "state": {},
   "version": "1.1.2"
  }
 },
 "nbformat": 4,
 "nbformat_minor": 1
}
